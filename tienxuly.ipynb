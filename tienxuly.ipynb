import pandas as pd
import numpy as np
import matplotlib.pyplot as plt
import seaborn as sns 
import sklearn
from sklearn.model_selection import train_test_split

data = pd.read_csv('fifa.csv', encoding = "ISO-8859-1")

# Tien xu ly
# Chuyen cot kieu tien te sang kieu so
def convert_currency(curr_col):
    kco_ky_tu_euro = curr_col.str[1:]
    don_vi = kco_ky_tu_euro.str[-1]
    giatri_chuoi = np.where(don_vi == '0', 0, kco_ky_tu_euro.str[:-1])
    giatri_so = giatri_chuoi.astype(np.float)
    donvi_so = don_vi.replace({'M': 1e6, 'K': 1e3}).pipe(pd.to_numeric)
    ser = pd.Series(giatri_so)
    return giatri_so * donvi_so

data["Wage"] = convert_currency(data["Wage"])
data["Value"] = convert_currency(data["Value"])
data["Release Clause"] = convert_currency(data["Release Clause"])

#print(data["Wage"])
#print(data["Value"])
#print(data["Release Clause"])

#Kiem tra co gia tri null ko
print("Co gia tri Null?", data.isnull().values.any())
#Dem so gia tri null cua moi cot
print("So gia tri Null moi cot:")
cot_null = data.columns[data.isnull().any()]
print(data[cot_null].isnull().sum())

# Dem so dong thieu gia tri Release Clause
print("So dong thieu gia tri Release Clause: ", data["Release Clause"].isnull().sum())
# Xoa dong du lieu thieu gia tri Release Clause
dong_bi_xoa = data[data["Release Clause"].isnull()].index.tolist();
data.drop(dong_bi_xoa, inplace=True)
print(data[cot_null].isnull().sum())

#gk_match = data['Position'] == "GK"
#print(len(data[gk_match]))

#print(pd.DataFrame({"Column":data.columns,"DType":[data[col].dtype for col in data.columns]}))
#print(data["Position"].value_counts())

# Chuyen cac gia tri (66+2) trong cac cot tu 28-54 sang kieu so
for col in data.columns[28:54]:
    data[col].replace(regex={r'^(\d+)[\+\-].*$':r'\1'}, inplace=True)
    data[col] = pd.to_numeric(data[col])

# Chuyen Position sang dang so theo do quan trong cua tung vi tri
data["Position"].replace(['ST','GK','CB','CM','LB','RB','RM','LM','CAM','CDM','RCB','LCB','RCM','LCM','LW','RW','RDM','LDM','LS','RS','RWB','LWB','CF','RAM','LAM','LF','RF'], [100,90,85,95,85,85,92,92,96,90,85,85,85,85,100,100,90,90,98,98,85,85,100,96,96,100,100], inplace=True)

# Xoa bo cac cot khong can dung den
data.drop(columns = ['STT','ID','Name','Photo','Nationality','Flag','Club','Club Logo','Preferred Foot','Work Rate','Body Type','Real Face','Jersey Number','Joined','Loaned From','Contract Valid Until','Height','Weight'], inplace=True)

# Dien cac gia tri thieu bang gia tri trung binh
data.fillna(data.mean(), inplace=True)

